{
  "nbformat": 4,
  "nbformat_minor": 0,
  "metadata": {
    "colab": {
      "provenance": []
    },
    "kernelspec": {
      "name": "python3",
      "display_name": "Python 3"
    },
    "language_info": {
      "name": "python"
    }
  },
  "cells": [
    {
      "cell_type": "code",
      "execution_count": 45,
      "metadata": {
        "colab": {
          "base_uri": "https://localhost:8080/"
        },
        "id": "ApkFlaTnumj_",
        "outputId": "5592fef0-5659-44ae-e104-6bb02e071d80"
      },
      "outputs": [
        {
          "output_type": "stream",
          "name": "stdout",
          "text": [
            "Enter the genres: drama\n",
            "no movie in this genre\n"
          ]
        }
      ],
      "source": [
        "streaming_service = {\n",
        "    \"action\": [\"fighter club\", \"blue star\"],\n",
        "    \"comedy\": [\"a1\", \"galata\"],\n",
        "    \"horror\": [\"The Conjuring\", \"Get Out\"],\n",
        "    \"romance\": [\"Titanic\", \"lover\"],\n",
        "}\n",
        "genres = input(\"Enter the genres: \").split()\n",
        "for genre in genres:\n",
        "    if genre in movie_db:\n",
        "        print(streraming_service[genre])\n",
        "    else:\n",
        "            print(\"no movie in this genre\")\n"
      ]
    }
  ]
}